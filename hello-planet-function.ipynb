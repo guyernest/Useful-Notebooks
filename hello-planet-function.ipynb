{
 "cells": [
  {
   "cell_type": "markdown",
   "id": "eb08349f",
   "metadata": {},
   "source": [
    "# Developing, Deploying and Testing Micro-services using Chalice on Jupyter Notebooks\n",
    "\n",
    "## Hello Planet Example\n",
    "\n",
    "In this notebook we will demonstrate more advanced topics such as:\n",
    "* Environment Variables, \n",
    "* External Libraries,\n",
    "* Lambda Layers, and\n",
    "* Configuration Editing"
   ]
  },
  {
   "cell_type": "markdown",
   "id": "86d030de",
   "metadata": {},
   "source": [
    "## Function Setup\n"
   ]
  },
  {
   "cell_type": "code",
   "execution_count": 1,
   "id": "cd82153c",
   "metadata": {},
   "outputs": [
    {
     "name": "stdout",
     "output_type": "stream",
     "text": [
      "/home/ec2-user\n",
      "Directory already exists: hello-planet\n",
      "Aborted!\n",
      "/home/ec2-user/hello-planet\n"
     ]
    }
   ],
   "source": [
    "%cd ~\n",
    "function_name = 'hello-planet'\n",
    "!chalice new-project $function_name\n",
    "%cd $function_name"
   ]
  },
  {
   "cell_type": "markdown",
   "id": "8115823f",
   "metadata": {},
   "source": [
    "## Notebook Execution\n",
    "\n",
    "One of the best benefits of Jupyter notebooks is interactivity. The output of each cell is presented right after and it, and it allows quick development and feedback loops. \n",
    "\n",
    "To allow the creation of the files for the deployment and the functions in the notebook we will define a new cell magic that both write to file and execute the code in the notebook kernel. "
   ]
  },
  {
   "cell_type": "code",
   "execution_count": 2,
   "id": "e5bddd4c",
   "metadata": {},
   "outputs": [],
   "source": [
    "from IPython.core.magic import register_cell_magic\n",
    "\n",
    "@register_cell_magic\n",
    "def write_and_run(line, cell):\n",
    "    argz = line.split()\n",
    "    file = argz[-1]\n",
    "    mode = 'w'\n",
    "    if len(argz) == 2 and argz[0] == '-a':\n",
    "        mode = 'a'\n",
    "    with open(file, mode) as f:\n",
    "        f.write(cell)\n",
    "    get_ipython().run_cell(cell)"
   ]
  },
  {
   "cell_type": "markdown",
   "id": "b1c807ef",
   "metadata": {},
   "source": [
    "## Passing Environment Variables\n",
    "\n",
    "We will set some of the paramters as environment paramters, that will later be part of the environment variable of the Lambda function"
   ]
  },
  {
   "cell_type": "code",
   "execution_count": 3,
   "id": "e01545e4",
   "metadata": {},
   "outputs": [],
   "source": [
    "import os\n",
    "\n",
    "planet = 'EARTH'\n",
    "os.environ['planet'] = planet"
   ]
  },
  {
   "cell_type": "markdown",
   "id": "72780faf",
   "metadata": {},
   "source": [
    "## Define the Chalice App\n",
    "\n",
    "We will use the new magic that we created to write the file, and load the environment variable "
   ]
  },
  {
   "cell_type": "code",
   "execution_count": 4,
   "id": "46456991",
   "metadata": {},
   "outputs": [],
   "source": [
    "%%write_and_run app.py\n",
    "from chalice import Chalice\n",
    "\n",
    "app = Chalice(app_name='hello-planet')\n",
    "\n",
    "import os\n",
    "planet = os.environ[\"planet\"]"
   ]
  },
  {
   "cell_type": "markdown",
   "id": "c9960683",
   "metadata": {},
   "source": [
    "## Define a helper function\n",
    "\n",
    "We will add a simple function that is loading a table from the web (nasa.com) with planets information, and lookup the mean temperature on the given planet. This way we can provide the same functionality to the people on Mars or Venus, as long as the Lambda has access to the Internet and to NASA website. \n",
    "\n",
    "This function is using the magic function that both write to the app.py file and execute it in the notebook kernel. We can test its functionality directly here in the notebook."
   ]
  },
  {
   "cell_type": "code",
   "execution_count": 5,
   "id": "6fed1409",
   "metadata": {},
   "outputs": [],
   "source": [
    "%%write_and_run -a app.py\n",
    "url = 'https://nssdc.gsfc.nasa.gov/planetary/factsheet/'\n",
    "\n",
    "import pandas as pd\n",
    "\n",
    "def get_planet_temperature(planet):\n",
    "    return (\n",
    "        pd\n",
    "        .read_html(\n",
    "            url,\n",
    "            header=0,\n",
    "            index_col=0\n",
    "        )\n",
    "        [0]\n",
    "        .loc['Mean Temperature (C)',planet]\n",
    "    )"
   ]
  },
  {
   "cell_type": "markdown",
   "id": "b5372529",
   "metadata": {},
   "source": [
    "### Test the helper function"
   ]
  },
  {
   "cell_type": "code",
   "execution_count": 6,
   "id": "80ee0b26",
   "metadata": {},
   "outputs": [
    {
     "data": {
      "text/plain": [
       "('15', '464', '-65')"
      ]
     },
     "execution_count": 6,
     "metadata": {},
     "output_type": "execute_result"
    }
   ],
   "source": [
    "get_planet_temperature(planet), get_planet_temperature('VENUS'), get_planet_temperature('MARS')"
   ]
  },
  {
   "cell_type": "markdown",
   "id": "29cd9873",
   "metadata": {},
   "source": [
    "## Define the main function\n",
    "\n",
    "Using the function decoration `@app.route()` we define the main function that will be executed when calling the API."
   ]
  },
  {
   "cell_type": "code",
   "execution_count": 7,
   "id": "3d345d0f",
   "metadata": {},
   "outputs": [],
   "source": [
    "%%write_and_run -a app.py\n",
    "\n",
    "import logging\n",
    "app.log.setLevel(logging.DEBUG)\n",
    "\n",
    "@app.route('/')\n",
    "def index():\n",
    "    app.log.debug(f'Calculating: {planet}')\n",
    "    return {'hello': f'{planet} with Mean Temperature (C) of {get_planet_temperature(planet)}'}"
   ]
  },
  {
   "cell_type": "markdown",
   "id": "1c08d5b7",
   "metadata": {},
   "source": [
    "### Testing the main function\n",
    "\n",
    "This test is done locally here in the notebook for a quick feedback and development loops. "
   ]
  },
  {
   "cell_type": "code",
   "execution_count": 8,
   "id": "a5c5bcd3",
   "metadata": {},
   "outputs": [
    {
     "name": "stdout",
     "output_type": "stream",
     "text": [
      "hello-planet - DEBUG - Calculating: EARTH\n"
     ]
    },
    {
     "data": {
      "text/plain": [
       "{'hello': 'EARTH with Mean Temperature (C) of 15'}"
      ]
     },
     "execution_count": 8,
     "metadata": {},
     "output_type": "execute_result"
    }
   ],
   "source": [
    "index()"
   ]
  },
  {
   "cell_type": "markdown",
   "id": "7edcef6f",
   "metadata": {},
   "source": [
    "## Updating external libraries\n",
    "\n",
    "Our helper function is using `Pandas` to read the table data for the temperature lookup. The `read_html` function requires another library `lxml` to parse the HTML correctly. Chalice is using the libraries that are defined in the `requirements.txt` file, and in the next cell we will write these two libraries to the file."
   ]
  },
  {
   "cell_type": "code",
   "execution_count": 9,
   "id": "18caa640",
   "metadata": {},
   "outputs": [
    {
     "name": "stdout",
     "output_type": "stream",
     "text": [
      "Overwriting requirements.txt\n"
     ]
    }
   ],
   "source": [
    "%%writefile requirements.txt\n",
    "pandas\n",
    "lxml"
   ]
  },
  {
   "cell_type": "markdown",
   "id": "38414f7d",
   "metadata": {},
   "source": [
    "## Updating Chalise Configurations\n",
    "\n",
    "We will use a similar idea to add and modify the configuration files of Chalise:\n",
    "* First, we read the default file that was created above with the `new-project` command. \n",
    "* Then, we add to the JSON of the configuration the name and default value of the environment variable\n",
    "* Next, we instruct Chalice to automatically create a layer with the external libraries above. This will simplify our future API that will be able to reuse the layer.\n",
    "* Next, we increase the memory size of Lambda from the default 128MB to 256MB\n",
    "* Last, we write the modified configuration back to the file"
   ]
  },
  {
   "cell_type": "code",
   "execution_count": 10,
   "id": "f4bd0c1a",
   "metadata": {},
   "outputs": [],
   "source": [
    "import json\n",
    " \n",
    "config_file = '.chalice/config.json'\n",
    "with open(config_file) as json_file:\n",
    "    app_config = json.load(json_file)\n",
    "    \n",
    "env_variable = {\n",
    "    'planet': planet\n",
    "}\n",
    "app_config['stages']['dev']['environment_variables'] = env_variable\n",
    "app_config['automatic_layer'] = True\n",
    "app_config['stages']['dev']['lambda_memory_size'] = 256\n",
    "\n",
    "with open(config_file, 'w') as outfile:\n",
    "    json.dump(app_config, outfile)"
   ]
  },
  {
   "cell_type": "code",
   "execution_count": 11,
   "id": "79271988",
   "metadata": {},
   "outputs": [
    {
     "name": "stdout",
     "output_type": "stream",
     "text": [
      "Creating shared layer deployment package.\n",
      "  Reusing existing shared layer deployment package.\n",
      "Creating app deployment package.\n",
      "  Reusing existing app deployment package.\n",
      "Creating lambda layer: hello-planet-dev-managed-layer\n",
      "Creating IAM role: hello-planet-dev\n",
      "Creating lambda function: hello-planet-dev\n",
      "Creating Rest API\n",
      "Resources deployed:\n",
      "  - Lambda Layer ARN: arn:aws:lambda:eu-west-1:672915487120:layer:hello-planet-dev-managed-layer:7\n",
      "  - Lambda ARN: arn:aws:lambda:eu-west-1:672915487120:function:hello-planet-dev\n",
      "  - Rest API URL: https://kjxjw9v322.execute-api.eu-west-1.amazonaws.com/api/\n"
     ]
    }
   ],
   "source": [
    "!chalice deploy"
   ]
  },
  {
   "cell_type": "markdown",
   "id": "8b3ab9ec",
   "metadata": {},
   "source": [
    "## Testing the API"
   ]
  },
  {
   "cell_type": "code",
   "execution_count": 12,
   "id": "52544154",
   "metadata": {},
   "outputs": [
    {
     "data": {
      "text/plain": [
       "{'resources': [{'name': 'managed-layer',\n",
       "   'resource_type': 'lambda_layer',\n",
       "   'layer_version_arn': 'arn:aws:lambda:eu-west-1:672915487120:layer:hello-planet-dev-managed-layer:7'},\n",
       "  {'name': 'default-role',\n",
       "   'resource_type': 'iam_role',\n",
       "   'role_arn': 'arn:aws:iam::672915487120:role/hello-planet-dev',\n",
       "   'role_name': 'hello-planet-dev'},\n",
       "  {'name': 'api_handler',\n",
       "   'resource_type': 'lambda_function',\n",
       "   'lambda_arn': 'arn:aws:lambda:eu-west-1:672915487120:function:hello-planet-dev'},\n",
       "  {'name': 'rest_api',\n",
       "   'resource_type': 'rest_api',\n",
       "   'rest_api_id': 'kjxjw9v322',\n",
       "   'rest_api_url': 'https://kjxjw9v322.execute-api.eu-west-1.amazonaws.com/api/'}],\n",
       " 'schema_version': '2.0',\n",
       " 'backend': 'api'}"
      ]
     },
     "execution_count": 12,
     "metadata": {},
     "output_type": "execute_result"
    }
   ],
   "source": [
    "import json\n",
    " \n",
    "f = open('.chalice/deployed/dev.json',)\n",
    " \n",
    "deployment_settings = json.load(f)\n",
    "deployment_settings"
   ]
  },
  {
   "cell_type": "code",
   "execution_count": 13,
   "id": "7632880c",
   "metadata": {},
   "outputs": [
    {
     "data": {
      "text/plain": [
       "'https://kjxjw9v322.execute-api.eu-west-1.amazonaws.com/api/'"
      ]
     },
     "execution_count": 13,
     "metadata": {},
     "output_type": "execute_result"
    }
   ],
   "source": [
    "rest_api_url = [\n",
    "    resource['rest_api_url'] \n",
    "    for resource in deployment_settings['resources'] \n",
    "    if resource['name'] == 'rest_api'\n",
    "][0]\n",
    "rest_api_url"
   ]
  },
  {
   "cell_type": "code",
   "execution_count": 14,
   "id": "807f83d4",
   "metadata": {},
   "outputs": [
    {
     "data": {
      "text/plain": [
       "{'hello': 'EARTH with Mean Temperature (C) of 15'}"
      ]
     },
     "execution_count": 14,
     "metadata": {},
     "output_type": "execute_result"
    }
   ],
   "source": [
    "import requests\n",
    "\n",
    "res = requests.get(rest_api_url)\n",
    "res.json()"
   ]
  },
  {
   "cell_type": "code",
   "execution_count": 15,
   "id": "14a1abe3",
   "metadata": {},
   "outputs": [
    {
     "name": "stdout",
     "output_type": "stream",
     "text": [
      "{\"hello\":\"EARTH with Mean Temperature (C) of 15\"}"
     ]
    }
   ],
   "source": [
    "!curl $rest_api_url"
   ]
  },
  {
   "cell_type": "markdown",
   "id": "a1fa0924",
   "metadata": {},
   "source": [
    "## Checking Lambda Logs"
   ]
  },
  {
   "cell_type": "code",
   "execution_count": 16,
   "id": "0eb5814b",
   "metadata": {},
   "outputs": [
    {
     "name": "stdout",
     "output_type": "stream",
     "text": [
      "2021-09-25 00:26:57.214000 624d52 OpenBLAS WARNING - could not determine the L2 cache size on this system, assuming 256k\n",
      "2021-09-25 00:26:58.770000 624d52 hello-planet - ERROR - Caught exception for path /\n",
      "2021-09-25 00:26:58.770000 624d52 Traceback (most recent call last):\n",
      "2021-09-25 00:26:58.770000 624d52 File \"/var/task/chalice/app.py\", line 1710, in _get_view_function_response\n",
      "2021-09-25 00:26:58.770000 624d52 response = view_function(**function_args)\n",
      "2021-09-25 00:26:58.770000 624d52 File \"/var/task/app.py\", line 26, in index\n",
      "2021-09-25 00:26:58.770000 624d52 return {'hello': f'{planet} with Mean Temperature (C) of {get_planet_temperrature(planet)}'}\n",
      "2021-09-25 00:26:58.770000 624d52 File \"/var/task/app.py\", line 18, in get_planet_temperrature\n",
      "2021-09-25 00:26:58.770000 624d52 index_col=0\n",
      "2021-09-25 00:26:58.770000 624d52 File \"/opt/python/lib/python3.6/site-packages/pandas/util/_decorators.py\", line 296, in wrapper\n",
      "2021-09-25 00:26:58.770000 624d52 return func(*args, **kwargs)\n",
      "2021-09-25 00:26:58.770000 624d52 File \"/opt/python/lib/python3.6/site-packages/pandas/io/html.py\", line 1101, in read_html\n",
      "2021-09-25 00:26:58.770000 624d52 displayed_only=displayed_only,\n",
      "2021-09-25 00:26:58.770000 624d52 File \"/opt/python/lib/python3.6/site-packages/pandas/io/html.py\", line 894, in _parse\n",
      "2021-09-25 00:26:58.770000 624d52 parser = _parser_dispatch(flav)\n",
      "2021-09-25 00:26:58.770000 624d52 File \"/opt/python/lib/python3.6/site-packages/pandas/io/html.py\", line 851, in _parser_dispatch\n",
      "2021-09-25 00:26:58.770000 624d52 raise ImportError(\"lxml not found, please install it\")\n",
      "2021-09-25 00:26:58.770000 624d52 ImportError: lxml not found, please install it\n",
      "2021-09-25 00:26:58.952000 624d52 hello-planet - ERROR - Caught exception for path /\n",
      "2021-09-25 00:26:58.952000 624d52 Traceback (most recent call last):\n",
      "2021-09-25 00:26:58.952000 624d52 File \"/var/task/chalice/app.py\", line 1710, in _get_view_function_response\n",
      "2021-09-25 00:26:58.952000 624d52 response = view_function(**function_args)\n",
      "2021-09-25 00:26:58.952000 624d52 File \"/var/task/app.py\", line 26, in index\n",
      "2021-09-25 00:26:58.952000 624d52 return {'hello': f'{planet} with Mean Temperature (C) of {get_planet_temperrature(planet)}'}\n",
      "2021-09-25 00:26:58.952000 624d52 File \"/var/task/app.py\", line 18, in get_planet_temperrature\n",
      "2021-09-25 00:26:58.952000 624d52 index_col=0\n",
      "2021-09-25 00:26:58.952000 624d52 File \"/opt/python/lib/python3.6/site-packages/pandas/util/_decorators.py\", line 296, in wrapper\n",
      "2021-09-25 00:26:58.952000 624d52 return func(*args, **kwargs)\n",
      "2021-09-25 00:26:58.952000 624d52 File \"/opt/python/lib/python3.6/site-packages/pandas/io/html.py\", line 1101, in read_html\n",
      "2021-09-25 00:26:58.952000 624d52 displayed_only=displayed_only,\n",
      "2021-09-25 00:26:58.952000 624d52 File \"/opt/python/lib/python3.6/site-packages/pandas/io/html.py\", line 894, in _parse\n",
      "2021-09-25 00:26:58.952000 624d52 parser = _parser_dispatch(flav)\n",
      "2021-09-25 00:26:58.952000 624d52 File \"/opt/python/lib/python3.6/site-packages/pandas/io/html.py\", line 851, in _parser_dispatch\n",
      "2021-09-25 00:26:58.952000 624d52 raise ImportError(\"lxml not found, please install it\")\n",
      "2021-09-25 00:26:58.952000 624d52 ImportError: lxml not found, please install it\n",
      "2021-09-25 00:30:18.392000 67a1fd OpenBLAS WARNING - could not determine the L2 cache size on this system, assuming 256k\n",
      "2021-09-25 00:49:55.940000 05c9e0 OpenBLAS WARNING - could not determine the L2 cache size on this system, assuming 256k\n",
      "2021-09-30 14:54:49.136000 194227 OpenBLAS WARNING - could not determine the L2 cache size on this system, assuming 256k\n",
      "2021-09-30 15:00:52.295000 afdd9a OpenBLAS WARNING - could not determine the L2 cache size on this system, assuming 256k\n",
      "2021-09-30 15:00:53.909000 afdd9a hello-planet - DEBUG - Calculating: EARTH\n",
      "2021-09-30 15:00:55.741000 afdd9a hello-planet - DEBUG - Calculating: EARTH\n",
      "2021-09-30 15:03:08.572000 73f5b8 OpenBLAS WARNING - could not determine the L2 cache size on this system, assuming 256k\n"
     ]
    }
   ],
   "source": [
    "!chalice logs"
   ]
  },
  {
   "cell_type": "markdown",
   "id": "092e22e7",
   "metadata": {},
   "source": [
    "## Cleanup\n",
    "\n",
    "At the end of the excercise we can clean up the resources"
   ]
  },
  {
   "cell_type": "code",
   "execution_count": 18,
   "id": "412634cb",
   "metadata": {},
   "outputs": [
    {
     "name": "stdout",
     "output_type": "stream",
     "text": [
      "Deleting Rest API: kjxjw9v322\n",
      "Deleting function: arn:aws:lambda:eu-west-1:672915487120:function:hello-planet-dev\n",
      "Deleting IAM role: hello-planet-dev\n",
      "Deleting layer version: arn:aws:lambda:eu-west-1:672915487120:layer:hello-planet-dev-managed-layer:7\n"
     ]
    }
   ],
   "source": [
    "!chalice delete"
   ]
  },
  {
   "cell_type": "code",
   "execution_count": null,
   "id": "84e3a781",
   "metadata": {},
   "outputs": [],
   "source": []
  }
 ],
 "metadata": {
  "kernelspec": {
   "display_name": "conda_python3",
   "language": "python",
   "name": "conda_python3"
  },
  "language_info": {
   "codemirror_mode": {
    "name": "ipython",
    "version": 3
   },
   "file_extension": ".py",
   "mimetype": "text/x-python",
   "name": "python",
   "nbconvert_exporter": "python",
   "pygments_lexer": "ipython3",
   "version": "3.6.13"
  }
 },
 "nbformat": 4,
 "nbformat_minor": 5
}
