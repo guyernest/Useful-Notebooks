{
 "cells": [
  {
   "cell_type": "markdown",
   "id": "aa0a1563",
   "metadata": {},
   "source": [
    "# Developing, Deploying and Testing Micro-services using Chalice on Jupyter Notebooks\n",
    "\n",
    "## Hello Planet Example\n",
    "\n",
    "In this notebook we will demonstrate more advanced topics such as:\n",
    "* Environment Variables, \n",
    "* External Libraries,\n",
    "* Lambda Layers, and\n",
    "* Configuration Editing"
   ]
  },
  {
   "cell_type": "markdown",
   "id": "fc2d91af",
   "metadata": {},
   "source": [
    "## Function Setup\n"
   ]
  },
  {
   "cell_type": "code",
   "execution_count": 1,
   "id": "b565bea5",
   "metadata": {},
   "outputs": [
    {
     "name": "stdout",
     "output_type": "stream",
     "text": [
      "/home/ec2-user\n"
     ]
    }
   ],
   "source": [
    "%cd ~"
   ]
  },
  {
   "cell_type": "code",
   "execution_count": 2,
   "id": "f62e5794",
   "metadata": {},
   "outputs": [],
   "source": [
    "function_name = 'hello-planet'"
   ]
  },
  {
   "cell_type": "code",
   "execution_count": 3,
   "id": "7cf1931b",
   "metadata": {},
   "outputs": [
    {
     "name": "stdout",
     "output_type": "stream",
     "text": [
      "Directory already exists: hello-planet\n",
      "Aborted!\n"
     ]
    }
   ],
   "source": [
    "!chalice new-project $function_name"
   ]
  },
  {
   "cell_type": "code",
   "execution_count": 4,
   "id": "3c940119",
   "metadata": {},
   "outputs": [
    {
     "name": "stdout",
     "output_type": "stream",
     "text": [
      "/home/ec2-user/hello-planet\n"
     ]
    }
   ],
   "source": [
    "%cd $function_name"
   ]
  },
  {
   "cell_type": "markdown",
   "id": "58ff0470",
   "metadata": {},
   "source": [
    "## Notebook Execution\n",
    "\n",
    "One of the best benefits of Jupyter notebooks is interactivity. The output of each cell is presented right after and it, and it allows quick development and feedback loops. \n",
    "\n",
    "To allow the creation of the files for the deployment and the functions in the notebook we will define a new cell magic that both write to file and execute the code in the notebook kernel. "
   ]
  },
  {
   "cell_type": "code",
   "execution_count": 5,
   "id": "017e9e8a",
   "metadata": {},
   "outputs": [],
   "source": [
    "from IPython.core.magic import register_cell_magic\n",
    "\n",
    "@register_cell_magic\n",
    "def write_and_run(line, cell):\n",
    "    argz = line.split()\n",
    "    file = argz[-1]\n",
    "    mode = 'w'\n",
    "    if len(argz) == 2 and argz[0] == '-a':\n",
    "        mode = 'a'\n",
    "    with open(file, mode) as f:\n",
    "        f.write(cell)\n",
    "    get_ipython().run_cell(cell)"
   ]
  },
  {
   "cell_type": "markdown",
   "id": "f95b7d02",
   "metadata": {},
   "source": [
    "## Passing Environment Variables\n",
    "\n",
    "We will set some of the paramters as environment paramters, that will later be part of the environment variable of the Lambda function"
   ]
  },
  {
   "cell_type": "code",
   "execution_count": 21,
   "id": "d0d01cef",
   "metadata": {},
   "outputs": [],
   "source": [
    "import os\n",
    "\n",
    "planet = 'EARTH'\n",
    "os.environ['planet'] = planet"
   ]
  },
  {
   "cell_type": "markdown",
   "id": "a040a42a",
   "metadata": {},
   "source": [
    "## Define the Chalice App\n",
    "\n",
    "We will use the new magic that we created to write the file, and load the environment variable "
   ]
  },
  {
   "cell_type": "code",
   "execution_count": 7,
   "id": "423169b3",
   "metadata": {},
   "outputs": [],
   "source": [
    "%%write_and_run app.py\n",
    "from chalice import Chalice\n",
    "\n",
    "app = Chalice(app_name='hello-planet')\n",
    "\n",
    "import os\n",
    "planet = os.environ[\"planet\"]"
   ]
  },
  {
   "cell_type": "markdown",
   "id": "c0e735fc",
   "metadata": {},
   "source": [
    "## Define a helper function\n",
    "\n",
    "We will add a simple function that is loading a table from the web (nasa.com) with planets information, and lookup the mean temperature on the given planet. This way we can provide the same functionality to the people on Mars or Venus, as long as the Lambda has access to the Internet and to NASA website. \n",
    "\n",
    "This function is using the magic function that both write to the app.py file and execute it in the notebook kernel. We can test its functionality directly here in the notebook."
   ]
  },
  {
   "cell_type": "code",
   "execution_count": 8,
   "id": "f855866a",
   "metadata": {},
   "outputs": [],
   "source": [
    "%%write_and_run -a app.py\n",
    "url = 'https://nssdc.gsfc.nasa.gov/planetary/factsheet/'\n",
    "\n",
    "import pandas as pd\n",
    "\n",
    "def get_planet_temperature(planet):\n",
    "    return (\n",
    "        pd\n",
    "        .read_html(\n",
    "            url,\n",
    "            header=0,\n",
    "            index_col=0\n",
    "        )\n",
    "        [0]\n",
    "        .loc['Mean Temperature (C)',planet]\n",
    "    )"
   ]
  },
  {
   "cell_type": "markdown",
   "id": "18febb9c",
   "metadata": {},
   "source": [
    "### Test the helper function"
   ]
  },
  {
   "cell_type": "code",
   "execution_count": 9,
   "id": "f24c2d8b",
   "metadata": {},
   "outputs": [
    {
     "data": {
      "text/plain": [
       "('15', '464', '-65')"
      ]
     },
     "execution_count": 9,
     "metadata": {},
     "output_type": "execute_result"
    }
   ],
   "source": [
    "get_planet_temperature(planet), get_planet_temperature('VENUS'), get_planet_temperature('MARS')"
   ]
  },
  {
   "cell_type": "markdown",
   "id": "bf6abca4",
   "metadata": {},
   "source": [
    "## Define the main function\n",
    "\n",
    "Using the function decoration `@app.route()` we define the main function that will be executed when calling the API."
   ]
  },
  {
   "cell_type": "code",
   "execution_count": 10,
   "id": "147bddbf",
   "metadata": {},
   "outputs": [],
   "source": [
    "%%write_and_run -a app.py\n",
    "\n",
    "@app.route('/')\n",
    "def index():\n",
    "    return {'hello': f'{planet} with Mean Temperature (C) of {get_planet_temperature(planet)}'}"
   ]
  },
  {
   "cell_type": "markdown",
   "id": "99962b40",
   "metadata": {},
   "source": [
    "### Testing the main function\n",
    "\n",
    "This test is done locally here in the notebook for a quick feedback and development loops. "
   ]
  },
  {
   "cell_type": "code",
   "execution_count": 11,
   "id": "d08284bf",
   "metadata": {},
   "outputs": [
    {
     "data": {
      "text/plain": [
       "{'hello': 'EARTH with Mean Temperature (C) of 15'}"
      ]
     },
     "execution_count": 11,
     "metadata": {},
     "output_type": "execute_result"
    }
   ],
   "source": [
    "index()"
   ]
  },
  {
   "cell_type": "markdown",
   "id": "a1c521a4",
   "metadata": {},
   "source": [
    "## Updating external libraries\n",
    "\n",
    "Our helper function is using `Pandas` to read the table data for the temperature lookup. The `read_html` function requires another library `lxml` to parse the HTML correctly. Chalice is using the libraries that are defined in the `requirements.txt` file, and in the next cell we will write these two libraries to the file."
   ]
  },
  {
   "cell_type": "code",
   "execution_count": 12,
   "id": "f69c2871",
   "metadata": {},
   "outputs": [
    {
     "name": "stdout",
     "output_type": "stream",
     "text": [
      "Overwriting requirements.txt\n"
     ]
    }
   ],
   "source": [
    "%%writefile requirements.txt\n",
    "pandas\n",
    "lxml"
   ]
  },
  {
   "cell_type": "markdown",
   "id": "477c1fbc",
   "metadata": {},
   "source": [
    "## Updating Chalise Configurations\n",
    "\n",
    "We will use a similar idea to add and modify the configuration files of Chalise:\n",
    "* First, we read the default file that was created above with the `new-project` command. \n",
    "* Then, we add to the JSON of the configuration the name and default value of the environment variable\n",
    "* Next, we instruct Chalice to automatically create a layer with the external libraries above. This will simplify our future API that will be able to reuse the layer.\n",
    "* Next, we increase the memory size of Lambda from the default 128MB to 256MB\n",
    "* Last, we write the modified configuration back to the file"
   ]
  },
  {
   "cell_type": "code",
   "execution_count": 13,
   "id": "4aa15d46",
   "metadata": {},
   "outputs": [],
   "source": [
    "import json\n",
    " \n",
    "config_file = '.chalice/config.json'\n",
    "with open(config_file) as json_file:\n",
    "    app_config = json.load(json_file)\n",
    "    \n",
    "env_variable = {\n",
    "    'planet': planet\n",
    "}\n",
    "app_config['stages']['dev']['environment_variables'] = env_variable\n",
    "app_config['automatic_layer'] = True\n",
    "app_config['stages']['dev']['lambda_memory_size'] = 256\n",
    "\n",
    "with open(config_file, 'w') as outfile:\n",
    "    json.dump(app_config, outfile)"
   ]
  },
  {
   "cell_type": "code",
   "execution_count": 14,
   "id": "aefbf0bd",
   "metadata": {},
   "outputs": [
    {
     "name": "stdout",
     "output_type": "stream",
     "text": [
      "Creating shared layer deployment package.\n",
      "  Reusing existing shared layer deployment package.\n",
      "Creating app deployment package.\n",
      "Updating lambda layer: hello-planet-dev-managed-layer\n",
      "Updating policy for IAM role: hello-planet-dev\n",
      "Updating lambda function: hello-planet-dev\n",
      "Updating rest API\n",
      "Resources deployed:\n",
      "  - Lambda Layer ARN: arn:aws:lambda:eu-west-1:672915487120:layer:hello-planet-dev-managed-layer:4\n",
      "  - Lambda ARN: arn:aws:lambda:eu-west-1:672915487120:function:hello-planet-dev\n",
      "  - Rest API URL: https://29c9xjwptk.execute-api.eu-west-1.amazonaws.com/api/\n"
     ]
    }
   ],
   "source": [
    "!chalice deploy"
   ]
  },
  {
   "cell_type": "markdown",
   "id": "069cbdf4",
   "metadata": {},
   "source": [
    "## Testing the API"
   ]
  },
  {
   "cell_type": "code",
   "execution_count": 15,
   "id": "e43eff29",
   "metadata": {},
   "outputs": [
    {
     "data": {
      "text/plain": [
       "{'resources': [{'name': 'managed-layer',\n",
       "   'resource_type': 'lambda_layer',\n",
       "   'layer_version_arn': 'arn:aws:lambda:eu-west-1:672915487120:layer:hello-planet-dev-managed-layer:4'},\n",
       "  {'name': 'default-role',\n",
       "   'resource_type': 'iam_role',\n",
       "   'role_arn': 'arn:aws:iam::672915487120:role/hello-planet-dev',\n",
       "   'role_name': 'hello-planet-dev'},\n",
       "  {'name': 'api_handler',\n",
       "   'resource_type': 'lambda_function',\n",
       "   'lambda_arn': 'arn:aws:lambda:eu-west-1:672915487120:function:hello-planet-dev'},\n",
       "  {'name': 'rest_api',\n",
       "   'resource_type': 'rest_api',\n",
       "   'rest_api_id': '29c9xjwptk',\n",
       "   'rest_api_url': 'https://29c9xjwptk.execute-api.eu-west-1.amazonaws.com/api/'}],\n",
       " 'schema_version': '2.0',\n",
       " 'backend': 'api'}"
      ]
     },
     "execution_count": 15,
     "metadata": {},
     "output_type": "execute_result"
    }
   ],
   "source": [
    "import json\n",
    " \n",
    "f = open('.chalice/deployed/dev.json',)\n",
    " \n",
    "deployment_settings = json.load(f)\n",
    "deployment_settings"
   ]
  },
  {
   "cell_type": "code",
   "execution_count": 16,
   "id": "4b66a8f2",
   "metadata": {},
   "outputs": [
    {
     "data": {
      "text/plain": [
       "'https://29c9xjwptk.execute-api.eu-west-1.amazonaws.com/api/'"
      ]
     },
     "execution_count": 16,
     "metadata": {},
     "output_type": "execute_result"
    }
   ],
   "source": [
    "rest_api_url = [\n",
    "    resource['rest_api_url'] \n",
    "    for resource in deployment_settings['resources'] \n",
    "    if resource['name'] == 'rest_api'\n",
    "][0]\n",
    "rest_api_url"
   ]
  },
  {
   "cell_type": "code",
   "execution_count": 17,
   "id": "ec6eacfd",
   "metadata": {},
   "outputs": [
    {
     "data": {
      "text/plain": [
       "{'hello': 'EARTH with Mean Temperature (C) of 15'}"
      ]
     },
     "execution_count": 17,
     "metadata": {},
     "output_type": "execute_result"
    }
   ],
   "source": [
    "import requests\n",
    "\n",
    "res = requests.get(f'{rest_api_url}')\n",
    "res.json()"
   ]
  },
  {
   "cell_type": "code",
   "execution_count": 18,
   "id": "6ed182ab",
   "metadata": {},
   "outputs": [
    {
     "name": "stdout",
     "output_type": "stream",
     "text": [
      "{\"hello\":\"EARTH with Mean Temperature (C) of 15\"}"
     ]
    }
   ],
   "source": [
    "!curl $rest_api_url"
   ]
  },
  {
   "cell_type": "markdown",
   "id": "5bc607b1",
   "metadata": {},
   "source": [
    "## Cleanup\n",
    "\n",
    "At the end of the excercise we can clean up the resources"
   ]
  },
  {
   "cell_type": "code",
   "execution_count": 20,
   "id": "567dd16e",
   "metadata": {},
   "outputs": [
    {
     "name": "stdout",
     "output_type": "stream",
     "text": [
      "Deleting Rest API: 29c9xjwptk\n",
      "Deleting function: arn:aws:lambda:eu-west-1:672915487120:function:hello-planet-dev\n",
      "Deleting IAM role: hello-planet-dev\n",
      "Deleting layer version: arn:aws:lambda:eu-west-1:672915487120:layer:hello-planet-dev-managed-layer:4\n"
     ]
    }
   ],
   "source": [
    "!chalice delete"
   ]
  },
  {
   "cell_type": "code",
   "execution_count": null,
   "id": "5b93d64a",
   "metadata": {},
   "outputs": [],
   "source": []
  }
 ],
 "metadata": {
  "kernelspec": {
   "display_name": "conda_python3",
   "language": "python",
   "name": "conda_python3"
  },
  "language_info": {
   "codemirror_mode": {
    "name": "ipython",
    "version": 3
   },
   "file_extension": ".py",
   "mimetype": "text/x-python",
   "name": "python",
   "nbconvert_exporter": "python",
   "pygments_lexer": "ipython3",
   "version": "3.6.13"
  }
 },
 "nbformat": 4,
 "nbformat_minor": 5
}
