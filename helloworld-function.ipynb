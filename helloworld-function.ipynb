{
 "cells": [
  {
   "cell_type": "markdown",
   "id": "f36df3fb",
   "metadata": {},
   "source": [
    "# Developing, Deploying and Testing Micro-services using Chalice on Jupyter Notebooks\n",
    "\n",
    "## Hello world Example\n",
    "\n",
    "In this notebook we will demonstrate the basic functionality of the combination of micro-services, Chalice and Jupyter Notebooks in an end-to-end flow from installtion, setup, development, deployment and testing. "
   ]
  },
  {
   "cell_type": "markdown",
   "id": "51409470",
   "metadata": {},
   "source": [
    "## Installing Chalice"
   ]
  },
  {
   "cell_type": "code",
   "execution_count": 1,
   "id": "c2b93e04",
   "metadata": {},
   "outputs": [
    {
     "name": "stdout",
     "output_type": "stream",
     "text": [
      "Collecting chalice\n",
      "  Downloading chalice-1.25.0-py3-none-any.whl (388 kB)\n",
      "\u001b[K     |████████████████████████████████| 388 kB 22.0 MB/s eta 0:00:01\n",
      "\u001b[?25hRequirement already satisfied: six<2.0.0,>=1.10.0 in /home/ec2-user/anaconda3/envs/python3/lib/python3.6/site-packages (from chalice) (1.15.0)\n",
      "Requirement already satisfied: wheel in /home/ec2-user/anaconda3/envs/python3/lib/python3.6/site-packages (from chalice) (0.36.2)\n",
      "Requirement already satisfied: jmespath<1.0.0,>=0.9.3 in /home/ec2-user/anaconda3/envs/python3/lib/python3.6/site-packages (from chalice) (0.10.0)\n",
      "Requirement already satisfied: pip<21.3,>=9 in /home/ec2-user/anaconda3/envs/python3/lib/python3.6/site-packages (from chalice) (21.2.4)\n",
      "Collecting inquirer<3.0.0,>=2.7.0\n",
      "  Downloading inquirer-2.7.0-py2.py3-none-any.whl (31 kB)\n",
      "Requirement already satisfied: mypy-extensions==0.4.3 in /home/ec2-user/anaconda3/envs/python3/lib/python3.6/site-packages (from chalice) (0.4.3)\n",
      "Requirement already satisfied: click<9.0,>=7 in /home/ec2-user/anaconda3/envs/python3/lib/python3.6/site-packages (from chalice) (7.1.2)\n",
      "Requirement already satisfied: attrs<21.3.0,>=19.3.0 in /home/ec2-user/anaconda3/envs/python3/lib/python3.6/site-packages (from chalice) (20.3.0)\n",
      "Requirement already satisfied: setuptools in /home/ec2-user/anaconda3/envs/python3/lib/python3.6/site-packages (from chalice) (49.6.0.post20210108)\n",
      "Requirement already satisfied: pyyaml<6.0.0,>=5.3.1 in /home/ec2-user/anaconda3/envs/python3/lib/python3.6/site-packages (from chalice) (5.4.1)\n",
      "Requirement already satisfied: botocore<2.0.0,>=1.14.0 in /home/ec2-user/anaconda3/envs/python3/lib/python3.6/site-packages (from chalice) (1.21.43)\n",
      "Collecting typing==3.6.4\n",
      "  Downloading typing-3.6.4-py3-none-any.whl (22 kB)\n",
      "Requirement already satisfied: python-dateutil<3.0.0,>=2.1 in /home/ec2-user/anaconda3/envs/python3/lib/python3.6/site-packages (from botocore<2.0.0,>=1.14.0->chalice) (2.8.1)\n",
      "Requirement already satisfied: urllib3<1.27,>=1.25.4 in /home/ec2-user/anaconda3/envs/python3/lib/python3.6/site-packages (from botocore<2.0.0,>=1.14.0->chalice) (1.26.6)\n",
      "Collecting blessed==1.17.6\n",
      "  Downloading blessed-1.17.6-py2.py3-none-any.whl (76 kB)\n",
      "\u001b[K     |████████████████████████████████| 76 kB 1.2 MB/s  eta 0:00:01\n",
      "\u001b[?25hCollecting python-editor==1.0.4\n",
      "  Downloading python_editor-1.0.4-py3-none-any.whl (4.9 kB)\n",
      "Collecting readchar==2.0.1\n",
      "  Downloading readchar-2.0.1-py3-none-any.whl (6.9 kB)\n",
      "Requirement already satisfied: wcwidth>=0.1.4 in /home/ec2-user/anaconda3/envs/python3/lib/python3.6/site-packages (from blessed==1.17.6->inquirer<3.0.0,>=2.7.0->chalice) (0.2.5)\n",
      "Installing collected packages: readchar, python-editor, blessed, typing, inquirer, chalice\n",
      "Successfully installed blessed-1.17.6 chalice-1.25.0 inquirer-2.7.0 python-editor-1.0.4 readchar-2.0.1 typing-3.6.4\n",
      "Note: you may need to restart the kernel to use updated packages.\n"
     ]
    }
   ],
   "source": [
    "pip install chalice"
   ]
  },
  {
   "cell_type": "markdown",
   "id": "8f842ccd",
   "metadata": {},
   "source": [
    "## Function Setup\n"
   ]
  },
  {
   "cell_type": "code",
   "execution_count": 2,
   "id": "7932d61e",
   "metadata": {},
   "outputs": [
    {
     "name": "stdout",
     "output_type": "stream",
     "text": [
      "/home/ec2-user\n"
     ]
    }
   ],
   "source": [
    "%cd ~"
   ]
  },
  {
   "cell_type": "code",
   "execution_count": 3,
   "id": "ef1f65dc",
   "metadata": {},
   "outputs": [],
   "source": [
    "function_name = 'helloworld'"
   ]
  },
  {
   "cell_type": "code",
   "execution_count": 4,
   "id": "3a830aa7",
   "metadata": {},
   "outputs": [
    {
     "name": "stdout",
     "output_type": "stream",
     "text": [
      "Your project has been generated in ./helloworld\n"
     ]
    }
   ],
   "source": [
    "!chalice new-project $function_name"
   ]
  },
  {
   "cell_type": "code",
   "execution_count": 5,
   "id": "644537d2",
   "metadata": {},
   "outputs": [
    {
     "name": "stdout",
     "output_type": "stream",
     "text": [
      "/home/ec2-user/helloworld\n"
     ]
    }
   ],
   "source": [
    "%cd $function_name"
   ]
  },
  {
   "cell_type": "code",
   "execution_count": 6,
   "id": "279a0bd2",
   "metadata": {},
   "outputs": [
    {
     "name": "stdout",
     "output_type": "stream",
     "text": [
      "Overwriting app.py\n"
     ]
    }
   ],
   "source": [
    "%%writefile app.py\n",
    "from chalice import Chalice\n",
    "\n",
    "app = Chalice(app_name='helloworld')\n",
    "\n",
    "\n",
    "@app.route('/')\n",
    "def index():\n",
    "    return {'hello': 'world'}\n"
   ]
  },
  {
   "cell_type": "code",
   "execution_count": 7,
   "id": "96f84110",
   "metadata": {},
   "outputs": [
    {
     "name": "stdout",
     "output_type": "stream",
     "text": [
      "Creating deployment package.\n",
      "Creating IAM role: helloworld-dev\n",
      "Creating lambda function: helloworld-dev\n",
      "Creating Rest API\n",
      "Resources deployed:\n",
      "  - Lambda ARN: arn:aws:lambda:eu-west-1:672915487120:function:helloworld-dev\n",
      "  - Rest API URL: https://q9f4wwnp9b.execute-api.eu-west-1.amazonaws.com/api/\n"
     ]
    }
   ],
   "source": [
    "!chalice deploy"
   ]
  },
  {
   "cell_type": "markdown",
   "id": "f5e2ae2e",
   "metadata": {},
   "source": [
    "## Testing the API"
   ]
  },
  {
   "cell_type": "code",
   "execution_count": 8,
   "id": "42c2cd8f",
   "metadata": {},
   "outputs": [
    {
     "data": {
      "text/plain": [
       "{'resources': [{'name': 'default-role',\n",
       "   'resource_type': 'iam_role',\n",
       "   'role_arn': 'arn:aws:iam::672915487120:role/helloworld-dev',\n",
       "   'role_name': 'helloworld-dev'},\n",
       "  {'name': 'api_handler',\n",
       "   'resource_type': 'lambda_function',\n",
       "   'lambda_arn': 'arn:aws:lambda:eu-west-1:672915487120:function:helloworld-dev'},\n",
       "  {'name': 'rest_api',\n",
       "   'resource_type': 'rest_api',\n",
       "   'rest_api_id': 'q9f4wwnp9b',\n",
       "   'rest_api_url': 'https://q9f4wwnp9b.execute-api.eu-west-1.amazonaws.com/api/'}],\n",
       " 'schema_version': '2.0',\n",
       " 'backend': 'api'}"
      ]
     },
     "execution_count": 8,
     "metadata": {},
     "output_type": "execute_result"
    }
   ],
   "source": [
    "import json\n",
    " \n",
    "f = open('.chalice/deployed/dev.json',)\n",
    " \n",
    "deployment_settings = json.load(f)\n",
    "deployment_settings"
   ]
  },
  {
   "cell_type": "code",
   "execution_count": 9,
   "id": "ee2e3c80",
   "metadata": {},
   "outputs": [
    {
     "data": {
      "text/plain": [
       "'https://q9f4wwnp9b.execute-api.eu-west-1.amazonaws.com/api/'"
      ]
     },
     "execution_count": 9,
     "metadata": {},
     "output_type": "execute_result"
    }
   ],
   "source": [
    "rest_api_url = [\n",
    "    resource['rest_api_url'] \n",
    "    for resource in deployment_settings['resources'] \n",
    "    if resource['name'] == 'rest_api'\n",
    "][0]\n",
    "rest_api_url"
   ]
  },
  {
   "cell_type": "code",
   "execution_count": 10,
   "id": "815807ee",
   "metadata": {},
   "outputs": [
    {
     "data": {
      "text/plain": [
       "{'hello': 'world'}"
      ]
     },
     "execution_count": 10,
     "metadata": {},
     "output_type": "execute_result"
    }
   ],
   "source": [
    "import requests\n",
    "\n",
    "res = requests.get(f'{rest_api_url}')\n",
    "res.json()"
   ]
  },
  {
   "cell_type": "code",
   "execution_count": 11,
   "id": "c7bfa8eb",
   "metadata": {},
   "outputs": [
    {
     "name": "stdout",
     "output_type": "stream",
     "text": [
      "{\"hello\":\"world\"}"
     ]
    }
   ],
   "source": [
    "!curl $rest_api_url"
   ]
  },
  {
   "cell_type": "markdown",
   "id": "d4211fce",
   "metadata": {},
   "source": [
    "## Cleanup\n",
    "\n",
    "At the end of the excercise we can clean up the resources"
   ]
  },
  {
   "cell_type": "code",
   "execution_count": 12,
   "id": "6bc8a240",
   "metadata": {},
   "outputs": [
    {
     "name": "stdout",
     "output_type": "stream",
     "text": [
      "Deleting Rest API: q9f4wwnp9b\n",
      "Deleting function: arn:aws:lambda:eu-west-1:672915487120:function:helloworld-dev\n",
      "Deleting IAM role: helloworld-dev\n"
     ]
    }
   ],
   "source": [
    "!chalice delete"
   ]
  },
  {
   "cell_type": "code",
   "execution_count": null,
   "id": "24c720c9",
   "metadata": {},
   "outputs": [],
   "source": []
  }
 ],
 "metadata": {
  "kernelspec": {
   "display_name": "conda_python3",
   "language": "python",
   "name": "conda_python3"
  },
  "language_info": {
   "codemirror_mode": {
    "name": "ipython",
    "version": 3
   },
   "file_extension": ".py",
   "mimetype": "text/x-python",
   "name": "python",
   "nbconvert_exporter": "python",
   "pygments_lexer": "ipython3",
   "version": "3.6.13"
  }
 },
 "nbformat": 4,
 "nbformat_minor": 5
}
