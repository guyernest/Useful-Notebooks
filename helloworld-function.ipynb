{
 "cells": [
  {
   "cell_type": "markdown",
   "id": "7cab2094",
   "metadata": {},
   "source": [
    "# Developing, Deploying and Testing Micro-services using Chalice on Jupyter Notebooks\n",
    "\n",
    "## Hello world Example\n",
    "\n",
    "In this notebook we will demonstrate the basic functionality of the combination of micro-services, Chalice and Jupyter Notebooks in an end-to-end flow from installtion, setup, development, deployment and testing. "
   ]
  },
  {
   "cell_type": "markdown",
   "id": "ffbb943a",
   "metadata": {},
   "source": [
    "## Installing Chalice"
   ]
  },
  {
   "cell_type": "code",
   "execution_count": 1,
   "id": "d4e381e9",
   "metadata": {},
   "outputs": [
    {
     "name": "stdout",
     "output_type": "stream",
     "text": [
      "Requirement already satisfied: chalice in /home/ec2-user/anaconda3/envs/python3/lib/python3.6/site-packages (1.25.0)\n",
      "Requirement already satisfied: jmespath<1.0.0,>=0.9.3 in /home/ec2-user/anaconda3/envs/python3/lib/python3.6/site-packages (from chalice) (0.10.0)\n",
      "Requirement already satisfied: botocore<2.0.0,>=1.14.0 in /home/ec2-user/anaconda3/envs/python3/lib/python3.6/site-packages (from chalice) (1.21.43)\n",
      "Requirement already satisfied: setuptools in /home/ec2-user/anaconda3/envs/python3/lib/python3.6/site-packages (from chalice) (49.6.0.post20210108)\n",
      "Requirement already satisfied: pyyaml<6.0.0,>=5.3.1 in /home/ec2-user/anaconda3/envs/python3/lib/python3.6/site-packages (from chalice) (5.4.1)\n",
      "Requirement already satisfied: wheel in /home/ec2-user/anaconda3/envs/python3/lib/python3.6/site-packages (from chalice) (0.36.2)\n",
      "Requirement already satisfied: six<2.0.0,>=1.10.0 in /home/ec2-user/anaconda3/envs/python3/lib/python3.6/site-packages (from chalice) (1.15.0)\n",
      "Requirement already satisfied: typing==3.6.4 in /home/ec2-user/anaconda3/envs/python3/lib/python3.6/site-packages (from chalice) (3.6.4)\n",
      "Requirement already satisfied: pip<21.3,>=9 in /home/ec2-user/anaconda3/envs/python3/lib/python3.6/site-packages (from chalice) (21.2.4)\n",
      "Requirement already satisfied: inquirer<3.0.0,>=2.7.0 in /home/ec2-user/anaconda3/envs/python3/lib/python3.6/site-packages (from chalice) (2.7.0)\n",
      "Requirement already satisfied: click<9.0,>=7 in /home/ec2-user/anaconda3/envs/python3/lib/python3.6/site-packages (from chalice) (7.1.2)\n",
      "Requirement already satisfied: attrs<21.3.0,>=19.3.0 in /home/ec2-user/anaconda3/envs/python3/lib/python3.6/site-packages (from chalice) (20.3.0)\n",
      "Requirement already satisfied: mypy-extensions==0.4.3 in /home/ec2-user/anaconda3/envs/python3/lib/python3.6/site-packages (from chalice) (0.4.3)\n",
      "Requirement already satisfied: python-dateutil<3.0.0,>=2.1 in /home/ec2-user/anaconda3/envs/python3/lib/python3.6/site-packages (from botocore<2.0.0,>=1.14.0->chalice) (2.8.1)\n",
      "Requirement already satisfied: urllib3<1.27,>=1.25.4 in /home/ec2-user/anaconda3/envs/python3/lib/python3.6/site-packages (from botocore<2.0.0,>=1.14.0->chalice) (1.26.6)\n",
      "Requirement already satisfied: python-editor==1.0.4 in /home/ec2-user/anaconda3/envs/python3/lib/python3.6/site-packages (from inquirer<3.0.0,>=2.7.0->chalice) (1.0.4)\n",
      "Requirement already satisfied: blessed==1.17.6 in /home/ec2-user/anaconda3/envs/python3/lib/python3.6/site-packages (from inquirer<3.0.0,>=2.7.0->chalice) (1.17.6)\n",
      "Requirement already satisfied: readchar==2.0.1 in /home/ec2-user/anaconda3/envs/python3/lib/python3.6/site-packages (from inquirer<3.0.0,>=2.7.0->chalice) (2.0.1)\n",
      "Requirement already satisfied: wcwidth>=0.1.4 in /home/ec2-user/anaconda3/envs/python3/lib/python3.6/site-packages (from blessed==1.17.6->inquirer<3.0.0,>=2.7.0->chalice) (0.2.5)\n",
      "Note: you may need to restart the kernel to use updated packages.\n"
     ]
    }
   ],
   "source": [
    "pip install chalice"
   ]
  },
  {
   "cell_type": "markdown",
   "id": "86b8b500",
   "metadata": {},
   "source": [
    "## Function Setup\n"
   ]
  },
  {
   "cell_type": "code",
   "execution_count": 2,
   "id": "e3d84752",
   "metadata": {},
   "outputs": [
    {
     "name": "stdout",
     "output_type": "stream",
     "text": [
      "/home/ec2-user\n"
     ]
    }
   ],
   "source": [
    "%cd ~"
   ]
  },
  {
   "cell_type": "code",
   "execution_count": 3,
   "id": "82db6214",
   "metadata": {},
   "outputs": [],
   "source": [
    "function_name = 'helloworld'"
   ]
  },
  {
   "cell_type": "code",
   "execution_count": 4,
   "id": "55ea108b",
   "metadata": {},
   "outputs": [
    {
     "name": "stdout",
     "output_type": "stream",
     "text": [
      "Directory already exists: helloworld\n",
      "Aborted!\n"
     ]
    }
   ],
   "source": [
    "!chalice new-project $function_name"
   ]
  },
  {
   "cell_type": "code",
   "execution_count": 5,
   "id": "af42a133",
   "metadata": {},
   "outputs": [
    {
     "name": "stdout",
     "output_type": "stream",
     "text": [
      "/home/ec2-user/helloworld\n"
     ]
    }
   ],
   "source": [
    "%cd $function_name"
   ]
  },
  {
   "cell_type": "code",
   "execution_count": 6,
   "id": "4f6ab583",
   "metadata": {},
   "outputs": [
    {
     "name": "stdout",
     "output_type": "stream",
     "text": [
      "Overwriting app.py\n"
     ]
    }
   ],
   "source": [
    "%%writefile app.py\n",
    "from chalice import Chalice\n",
    "\n",
    "app = Chalice(app_name='helloworld')\n",
    "\n",
    "\n",
    "@app.route('/')\n",
    "def index():\n",
    "    return {'hello': 'world'}\n"
   ]
  },
  {
   "cell_type": "code",
   "execution_count": 7,
   "id": "7305d916",
   "metadata": {},
   "outputs": [
    {
     "name": "stdout",
     "output_type": "stream",
     "text": [
      "Creating deployment package.\n",
      "Reusing existing deployment package.\n",
      "Creating IAM role: helloworld-dev\n",
      "Creating lambda function: helloworld-dev\n",
      "Creating Rest API\n",
      "Resources deployed:\n",
      "  - Lambda ARN: arn:aws:lambda:eu-west-1:672915487120:function:helloworld-dev\n",
      "  - Rest API URL: https://hglunxk9h9.execute-api.eu-west-1.amazonaws.com/api/\n"
     ]
    }
   ],
   "source": [
    "!chalice deploy"
   ]
  },
  {
   "cell_type": "markdown",
   "id": "b3e964fb",
   "metadata": {},
   "source": [
    "## Testing the API"
   ]
  },
  {
   "cell_type": "code",
   "execution_count": 8,
   "id": "a0a9b94d",
   "metadata": {},
   "outputs": [
    {
     "data": {
      "text/plain": [
       "{'resources': [{'name': 'default-role',\n",
       "   'resource_type': 'iam_role',\n",
       "   'role_arn': 'arn:aws:iam::672915487120:role/helloworld-dev',\n",
       "   'role_name': 'helloworld-dev'},\n",
       "  {'name': 'api_handler',\n",
       "   'resource_type': 'lambda_function',\n",
       "   'lambda_arn': 'arn:aws:lambda:eu-west-1:672915487120:function:helloworld-dev'},\n",
       "  {'name': 'rest_api',\n",
       "   'resource_type': 'rest_api',\n",
       "   'rest_api_id': 'hglunxk9h9',\n",
       "   'rest_api_url': 'https://hglunxk9h9.execute-api.eu-west-1.amazonaws.com/api/'}],\n",
       " 'schema_version': '2.0',\n",
       " 'backend': 'api'}"
      ]
     },
     "execution_count": 8,
     "metadata": {},
     "output_type": "execute_result"
    }
   ],
   "source": [
    "import json\n",
    " \n",
    "f = open('.chalice/deployed/dev.json',)\n",
    " \n",
    "deployment_settings = json.load(f)\n",
    "deployment_settings"
   ]
  },
  {
   "cell_type": "code",
   "execution_count": 9,
   "id": "1af7ad5f",
   "metadata": {},
   "outputs": [
    {
     "data": {
      "text/plain": [
       "'https://hglunxk9h9.execute-api.eu-west-1.amazonaws.com/api/'"
      ]
     },
     "execution_count": 9,
     "metadata": {},
     "output_type": "execute_result"
    }
   ],
   "source": [
    "rest_api_url = [\n",
    "    resource['rest_api_url'] \n",
    "    for resource in deployment_settings['resources'] \n",
    "    if resource['name'] == 'rest_api'\n",
    "][0]\n",
    "rest_api_url"
   ]
  },
  {
   "cell_type": "code",
   "execution_count": 10,
   "id": "e3b50d71",
   "metadata": {},
   "outputs": [
    {
     "data": {
      "text/plain": [
       "{'hello': 'world'}"
      ]
     },
     "execution_count": 10,
     "metadata": {},
     "output_type": "execute_result"
    }
   ],
   "source": [
    "import requests\n",
    "\n",
    "res = requests.get(rest_api_url)\n",
    "res.json()"
   ]
  },
  {
   "cell_type": "code",
   "execution_count": 11,
   "id": "03e675e5",
   "metadata": {},
   "outputs": [
    {
     "name": "stdout",
     "output_type": "stream",
     "text": [
      "{\"hello\":\"world\"}"
     ]
    }
   ],
   "source": [
    "!curl $rest_api_url"
   ]
  },
  {
   "cell_type": "markdown",
   "id": "aed2fbcd",
   "metadata": {},
   "source": [
    "## Cleanup\n",
    "\n",
    "At the end of the excercise we can clean up the resources"
   ]
  },
  {
   "cell_type": "code",
   "execution_count": 12,
   "id": "eb3ff216",
   "metadata": {},
   "outputs": [
    {
     "name": "stdout",
     "output_type": "stream",
     "text": [
      "Deleting Rest API: hglunxk9h9\n",
      "Deleting function: arn:aws:lambda:eu-west-1:672915487120:function:helloworld-dev\n",
      "Deleting IAM role: helloworld-dev\n"
     ]
    }
   ],
   "source": [
    "!chalice delete"
   ]
  },
  {
   "cell_type": "code",
   "execution_count": null,
   "id": "3c6f60b3",
   "metadata": {},
   "outputs": [],
   "source": []
  }
 ],
 "metadata": {
  "kernelspec": {
   "display_name": "conda_python3",
   "language": "python",
   "name": "conda_python3"
  },
  "language_info": {
   "codemirror_mode": {
    "name": "ipython",
    "version": 3
   },
   "file_extension": ".py",
   "mimetype": "text/x-python",
   "name": "python",
   "nbconvert_exporter": "python",
   "pygments_lexer": "ipython3",
   "version": "3.6.13"
  }
 },
 "nbformat": 4,
 "nbformat_minor": 5
}
